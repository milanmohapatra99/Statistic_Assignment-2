{
 "cells": [
  {
   "cell_type": "markdown",
   "id": "00a51a24",
   "metadata": {},
   "source": [
    "# Q1. What are the three measures of central tendency?"
   ]
  },
  {
   "cell_type": "markdown",
   "id": "769e12ba",
   "metadata": {},
   "source": [
    "Ans: There are three main measures of central tendency:\n",
    "        \n",
    " 1- mode : The mode is the most commonly occurring value in a distribution.\n",
    " \n",
    " 2- median : The median is the middle value in distribution when the values are arranged in ascending or descending order.\n",
    " \n",
    " 3 -mean : The mean is the sum of the value of each observation in a dataset divided by the number of observations. This is also known as the arithmetic average. "
   ]
  },
  {
   "cell_type": "markdown",
   "id": "4c74c1dc",
   "metadata": {},
   "source": [
    "# Q2. What is the difference between the mean,median and mode? How are they used to measure the central tendency of a dataset?"
   ]
  },
  {
   "cell_type": "markdown",
   "id": "dedac112",
   "metadata": {},
   "source": [
    "Ans: Mean: The mean represents the average value of the dataset. It can be calculated as the sum of all the values in the dataset divided by the number of values. Mean is the arithmetic mean or in a  simple way can be a simple average or weighted average. \n",
    "        \n",
    "Median: Median is the middle value of the dataset in which the dataset is arranged in the ascending order or in descending order. When the dataset contains an even number of values, then the median value of the dataset can be found by taking the mean of the middle two values.\n",
    "\n",
    "Mode: The mode represents the frequently occurring value in the dataset. If there is a unique data set, there is no mode at all.\n",
    "    \n",
    "The central tendency measure is defined as the number used to represent the center or middle of a set of data values. The three commonly used measures of central tendency are the mean, median, and mode. \n",
    "\n",
    "Based on the properties of the data, the measures of central tendency are selected:\n",
    "\n",
    "1- If you have a symmetrical distribution of continuous data, all the three measures of central tendency hold good. But most of the times, the analyst uses the mean because it involves all the values in the distribution or dataset.\n",
    "\n",
    "2- If you have skewed distribution, the best measure of finding the central tendency is the median.\n",
    "\n",
    "3- If you have the original data, then both the median and mode are the best choice of measuring the central tendency.\n",
    "\n",
    "4- If you have categorical data, the mode is the best choice to find the central tendency.\n"
   ]
  },
  {
   "cell_type": "markdown",
   "id": "f75e3cb1",
   "metadata": {},
   "source": [
    "# Q3. Measure the three measures of central tendency for the given height data: \n",
    "    \n",
    "    [178,177,176,177,178.2,178,175,179,180,175,178.9,176.2,177,172.5,178,176.5]"
   ]
  },
  {
   "cell_type": "markdown",
   "id": "0e0074a2",
   "metadata": {},
   "source": [
    "To find the three measures of central tendency for the given height data, we can use the following formulas:\n",
    "\n",
    "Mean = (sum of all values) / (number of values)\n",
    "\n",
    "Median = middle value in the sorted dataset\n",
    "\n",
    "Mode = value that appears most frequently in the dataset"
   ]
  },
  {
   "cell_type": "code",
   "execution_count": 6,
   "id": "a1366d10",
   "metadata": {},
   "outputs": [
    {
     "name": "stdout",
     "output_type": "stream",
     "text": [
      "Mean is  177.01875\n"
     ]
    }
   ],
   "source": [
    "# 1- Mean : \n",
    "import numpy as np\n",
    "height = [178,177,176,177,178.2,178,175,179,180,175,178.9,176.2,177,172.5,178,176.5]\n",
    "mean = np.mean(height)\n",
    "print(\"Mean is \",mean)"
   ]
  },
  {
   "cell_type": "code",
   "execution_count": 9,
   "id": "f18806c1",
   "metadata": {},
   "outputs": [
    {
     "name": "stdout",
     "output_type": "stream",
     "text": [
      "Median is  177.0\n"
     ]
    }
   ],
   "source": [
    "#2- Median : \n",
    "median = np.median(height)\n",
    "print(\"Median is \",median)"
   ]
  },
  {
   "cell_type": "code",
   "execution_count": 10,
   "id": "bd4f7ef5",
   "metadata": {},
   "outputs": [
    {
     "name": "stdout",
     "output_type": "stream",
     "text": [
      "Mode is  ModeResult(mode=array([177.]), count=array([3]))\n"
     ]
    }
   ],
   "source": [
    "# 3- Mode :\n",
    "from scipy import stats\n",
    "mode = stats.mode(height)\n",
    "print(\"Mode is \",mode)"
   ]
  },
  {
   "cell_type": "markdown",
   "id": "452fba17",
   "metadata": {},
   "source": [
    "# Q4. Find the standard deviation for the given data:\n",
    "    \n",
    "    [178,177,176,177,178.2,178,175,179,180,175,178.9,176.2,177,172.5,178,176.5]"
   ]
  },
  {
   "cell_type": "code",
   "execution_count": 11,
   "id": "75d5a20d",
   "metadata": {},
   "outputs": [
    {
     "name": "stdout",
     "output_type": "stream",
     "text": [
      "Standard Deviation is  1.7885814036548633\n"
     ]
    }
   ],
   "source": [
    "import numpy as np\n",
    "data = [178,177,176,177,178.2,178,175,179,180,175,178.9,176.2,177,172.5,178,176.5]\n",
    "#Standard Deviation \n",
    "s = np.std(data)\n",
    "print(\"Standard Deviation is \", s)"
   ]
  },
  {
   "cell_type": "markdown",
   "id": "d515dc1b",
   "metadata": {},
   "source": [
    "# Q5. How are measures of dispersion such as range,variance, and standard deviation used to describe the spread of a dataset? Provide an example."
   ]
  },
  {
   "cell_type": "markdown",
   "id": "e1263052",
   "metadata": {},
   "source": [
    "Range: The range is the easiest dispersion of data or measure of variability. The range can measure by subtracting the lowest value from the massive Number. The wide range indicates high variability, and the small range specifies low variability in the distribution. To calculate a range, prepare all the values in ascending order, then subtract the lowest value from the highest value.\n",
    "\n",
    "Range = Highest_value  – Lowest_value\n",
    "\n",
    "Example: 1,2,3,4,5,6,7,8\n",
    "Range = Highest value – Lowest value \n",
    "  = ( 8 – 1 ) = 7 \n",
    "\n",
    "Variance: Variance is a simple measure of dispersion. Variance measures how far each number in the dataset from the mean. To compute variance first, calculate the mean and squared deviations from a mean.\n",
    "    \n",
    "Example: x = {1,2,3,4,5}  , x1 = {3,3,3,3,3,3}\n",
    "    \n",
    "mean = x / 5 = 15/ 5 = 3  \n",
    "    \n",
    "(x-x1) ^ 2 = {4,1,0,1,1} = 10\n",
    "    \n",
    "s ^ 2 = 10 / 4 = 2.5\n",
    "\n",
    "Standard Deviation: Standard deviation is a squared root of the variance to get original values. Low standard deviation indicates data points close to mean.\n",
    "\n",
    "Standard Deviation = √σ \n",
    "\n",
    "x = {1,2,3,4,5}\n",
    "\n",
    "x1 = 15/ 5 = 3\n",
    "\n",
    "σ = 1.414\n",
    "\n"
   ]
  },
  {
   "cell_type": "markdown",
   "id": "d6b9d6f5",
   "metadata": {},
   "source": [
    "# Q6. What is a Venn diagram?"
   ]
  },
  {
   "cell_type": "markdown",
   "id": "21f4001e",
   "metadata": {},
   "source": [
    "Ans: A Venn diagram uses overlapping circles or other shapes to illustrate the logical relationships between two or more sets of items. Often, they serve to graphically organize things, highlighting how the items are similar and different.A Venn diagram is an illustration that uses circles to show the relationships among things or finite groups of things. Circles that overlap have a commonality while circles that do not overlap do not share those traits.Venn diagrams help to visually represent the similarities and differences between two concepts. "
   ]
  },
  {
   "cell_type": "markdown",
   "id": "7ac7972f",
   "metadata": {},
   "source": [
    "# Q7. For the two given sets A = (2,3,4,5,6,7) & B = (0,2,6,8,10).Find:\n",
    "    \n",
    "    (i)  A  B\n",
    "    \n",
    "    (ii) A U B"
   ]
  },
  {
   "cell_type": "markdown",
   "id": "c4a855fb",
   "metadata": {},
   "source": [
    "(i) A B represents the set of elements that are common to both sets A and B. To find A B, we need to identify the elements that appear in both sets. \n",
    "From the given sets, we see that the common element between A and B is 6. Therefore, A B = {6}.\n",
    "\n",
    "(ii) A ⋃ B represents the union of sets A and B, which includes all the elements that are in either set A or set B, or both. To find A ⋃ B, we need to combine the elements from both sets and remove any duplicates. The combined set is:\n",
    "\n",
    "A = (2,3,4,5,6,7) & B = (0,2,6,8,10)\n",
    "\n",
    "Therefore, A ⋃ B = {0, 2, 3, 4, 5, 6, 7, 8, 10}."
   ]
  },
  {
   "cell_type": "markdown",
   "id": "018b774a",
   "metadata": {},
   "source": [
    "# Q8. What do you understand about skewness in data"
   ]
  },
  {
   "cell_type": "markdown",
   "id": "03ce9d44",
   "metadata": {},
   "source": [
    "Ans: Skewness is a measurement of the distortion of symmetrical distribution or asymmetry in a data set. Skewness is demonstrated on a bell curve when data points are not distributed symmetrically to the left and right sides of the median on a bell curve.\n",
    "\n",
    "Types of Skewness\n",
    "\n",
    "1. Positive Skewness : If the given distribution is shifted to the left and with its tail on the right side, it is a positively skewed distribution. It is also called the right-skewed distribution. \n",
    "\n",
    "a positively skewed distribution assumes a skewness value of more than zero. Since the skewness of the given distribution is on the right, the mean value is greater than the median and moves towards the right, and the mode occurs at the highest frequency of the distribution.\n",
    "\n",
    "2. Negative Skewness : if the given distribution is shifted to the right and with its tail on the left side, it is a negatively skewed distribution. It is also called a left-skewed distribution. The skewness value of any distribution showing a negative skew is always less than zero. The skewness of the given distribution is on the left; hence, the mean value is less than the median and moves towards the left, and the mode occurs at the highest frequency of the distribution."
   ]
  },
  {
   "cell_type": "markdown",
   "id": "a6ca8e00",
   "metadata": {},
   "source": [
    "# Q9. if a data is right skewed then what will be the position of median with respect to mean?"
   ]
  },
  {
   "cell_type": "markdown",
   "id": "5c71c4ac",
   "metadata": {},
   "source": [
    "Ans: If a data is right skewed, the median will be less than the mean. This is because in a right-skewed distribution, the tail of the distribution is on the right side, which means there are some extreme values on the right side that pull the mean towards the right, making it higher than the median. The median, on the other hand, is not affected by extreme values and is only influenced by the values in the middle of the distribution. As a result, the median is typically less than the mean in a right-skewed distribution."
   ]
  },
  {
   "cell_type": "markdown",
   "id": "9862ed4d",
   "metadata": {},
   "source": [
    "# Q10. Explain the difference between covariance and correlation. How are these measures used in statistical analysis?"
   ]
  },
  {
   "cell_type": "markdown",
   "id": "4361a3d5",
   "metadata": {},
   "source": [
    "Covariance and correlation are two terms that are opposed and are both used in statistics and regression analysis. Covariance shows you how the two variables differ, whereas correlation shows you how the two variables are related. \n",
    "\n",
    "Covariance:- Covariance is a statistical term that refers to a systematic relationship between two random variables in which a change in the other reflects a change in one variable.\n",
    "\n",
    "The covariance value can range from -∞ to +∞, with a negative value indicating a negative relationship and a positive value indicating a positive relationship.\n",
    "\n",
    "The greater this number, the more reliant the relationship. Positive covariance denotes a direct relationship and is represented by a positive number.\n",
    "\n",
    "Types of Covariance:\n",
    "Covariance can be either positive or negative. It is classified into two sorts based on this:\n",
    "\n",
    "Positive Covariance:\n",
    "A positive covariance between two variables indicates that they are heading in the same direction. The variables, in this case, behave similarly. That is, if the values of one variable (more or smaller) correspond to the values of another variable, they are said to be in positive covariance.\n",
    "\n",
    "Negative Covariance:\n",
    "When two variables have a negative covariance, the variables shift in the opposite direction. It is the inverse of positive covariance, in which higher values of one variable correlate to lower values of another and vice versa.\n",
    "\n",
    "Correlation :- correlation is a measure that determines the degree to which two or more random variables move in sequence. When an equivalent movement of another variable reciprocates the movement of one variable in some way or another during the study of two variables, the variables are said to be correlated.\n",
    "    \n",
    "Correlation is of three types:\n",
    "\n",
    "1- Simple Correlation: In simple correlation, a single number expresses the degree to which two variables are related.\n",
    "\n",
    "2- Partial Correlation: When one variable's effects are removed, the correlation between two variables is revealed in partial correlation.\n",
    "\n",
    "3- Multiple correlation: A statistical technique that uses two or more variables to predict the value of one variable.   "
   ]
  },
  {
   "cell_type": "markdown",
   "id": "15083122",
   "metadata": {},
   "source": [
    "# Q11. What is the formula for calculating the sample mean? Provide an example calculation for a dataset."
   ]
  },
  {
   "cell_type": "code",
   "execution_count": null,
   "id": "36e2f9b9",
   "metadata": {},
   "outputs": [],
   "source": [
    "The formula for calculating the sample mean (also known as the arithmetic mean) is:\n",
    "\n",
    "sample mean = (sum of all values in the dataset) / (number of values in the dataset)\n",
    "\n",
    "For example, consider the following dataset:\n",
    "\n",
    "2, 4, 6, 8, 10, 12, 16, 18,  20, 22, 24 \n",
    "\n",
    "To find the sample mean of this dataset, we first need to add up all the values:\n",
    "\n",
    "2 + 4 + 6 + 8 + 10 + 12 + 16 + 18 + 20 + 22 + 24 = 142\n",
    "\n",
    "Next, we divide the sum by the number of values in the dataset, which is 5:\n",
    "\n",
    "sample mean = 142 / 11 = 12.90\n",
    "\n",
    "Therefore, the sample mean of this dataset is 12.90."
   ]
  },
  {
   "cell_type": "markdown",
   "id": "17f77fb0",
   "metadata": {},
   "source": [
    "# Q12. For a normal distribution data what is the relationship between its measure of central tendency?"
   ]
  },
  {
   "cell_type": "markdown",
   "id": "9ae596ff",
   "metadata": {},
   "source": [
    "The mean is usually the best measure of central tendency to use when your data distribution is continuous and symmetrical, such as when your data is normally distributed.\n",
    "\n",
    "This is because a normal distribution is symmetric around its mean, so the middle value (median) is the same as the average value (mean), which is also the most frequent value (mode).\n",
    "\n",
    "This relationship between the mean, median, and mode is a key characteristic of a normal distribution and can be used to identify if a dataset is approximately normally distributed."
   ]
  },
  {
   "cell_type": "markdown",
   "id": "00c76034",
   "metadata": {},
   "source": [
    "# Q.13 How is covariance different from correlation?"
   ]
  },
  {
   "cell_type": "markdown",
   "id": "14388e4f",
   "metadata": {},
   "source": [
    "Correlation and Covariance both measure only the linear relationships between two variables. This means that when the correlation coefficient is zero, the covariance is also zero. Both correlation and covariance measures are also unaffected by the change in location.\n",
    "\n",
    "Covariance: Covariance is an indicator of the extent to which 2 random variables are dependent on each other. A higher number denotes higher dependency.\n",
    "\n",
    "The value of covariance lies in the range of -∞ and +∞.\n",
    "\n",
    "Covariance is expressed in the units of the variables being measured.\n",
    "\n",
    "Correlation : Correlation is a statistical measure that indicates how strongly two variables are related.\n",
    "\n",
    "Correlation is limited to values between the range -1 and +1.\n",
    "\n",
    "correlation is unitless, as it measures the relationship between variables relative to their standard deviations.\n"
   ]
  },
  {
   "cell_type": "markdown",
   "id": "8074cdbf",
   "metadata": {},
   "source": [
    "# Q.14 How do outliers affect measures of central tendency and dispersion? Provide an example."
   ]
  },
  {
   "cell_type": "markdown",
   "id": "8f9550b4",
   "metadata": {},
   "source": [
    "Outliers are extreme values that differ significantly from the other values in a dataset. They can have a significant impact on measures of central tendency and dispersion:\n",
    "\n",
    "Measures of central tendency: Outliers can greatly affect the mean, but have little effect on the median and mode. This is because the mean is sensitive to extreme values, and outliers can pull it towards the extreme end of the distribution. For example, consider a dataset of salaries for a company that looks like this:\n",
    "\n",
    "30,000, 35,000, 40,000, 45,000, 50,000, 55,000, 60,000, 75,000,80,000, 100,000\n",
    "\n",
    "The mean salary is (30,000+35,000+40,000+45,000+50,000+55,000+60,000+75,000+80,000+100,000) / 10 = 57,000. The outlier of 100,000 has pulled the mean towards the upper end of the distribution.\n",
    "\n",
    "Measures of dispersion: Outliers can greatly affect measures of dispersion such as range, variance, and standard deviation. For example, consider the same salary dataset as above. The range of salaries is 100,000 - 30,000 = 70,000. However, if we remove the outlier of 100,000, the range becomes 60,000 - 30,000 = 30,000. Similarly, the variance and standard deviation will be larger if the dataset includes an outlier."
   ]
  }
 ],
 "metadata": {
  "kernelspec": {
   "display_name": "Python 3 (ipykernel)",
   "language": "python",
   "name": "python3"
  },
  "language_info": {
   "codemirror_mode": {
    "name": "ipython",
    "version": 3
   },
   "file_extension": ".py",
   "mimetype": "text/x-python",
   "name": "python",
   "nbconvert_exporter": "python",
   "pygments_lexer": "ipython3",
   "version": "3.9.7"
  }
 },
 "nbformat": 4,
 "nbformat_minor": 5
}
